{
  "cells": [
    {
      "cell_type": "code",
      "execution_count": 1,
      "metadata": {
        "id": "L5jvIl8Zz0dG"
      },
      "outputs": [],
      "source": [
        "import tarfile\n",
        "import os\n",
        "import numpy as np\n",
        "import pandas as pd\n",
        "import matplotlib.pyplot as plt\n",
        "from tensorflow.keras.preprocessing.text import Tokenizer\n",
        "from tensorflow.keras.preprocessing.sequence import pad_sequences\n",
        "from tensorflow.keras.models import Sequential\n",
        "from tensorflow.keras.layers import Embedding, LSTM, Bidirectional, Dense, Dropout\n",
        "from tensorflow.keras.optimizers import Adam\n",
        "from sklearn.model_selection import train_test_split\n",
        "from gensim.models import Word2Vec\n",
        "from tensorflow.keras.regularizers import l2\n",
        "from tensorflow.keras.callbacks import EarlyStopping, ModelCheckpoint"
      ]
    },
    {
      "cell_type": "code",
      "execution_count": 2,
      "metadata": {
        "colab": {
          "base_uri": "https://localhost:8080/"
        },
        "id": "xUXFCp0S34UZ",
        "outputId": "b8505566-3c9f-4128-e9c9-b209d8162e8d"
      },
      "outputs": [
        {
          "name": "stdout",
          "output_type": "stream",
          "text": [
            "Drive already mounted at /content/drive; to attempt to forcibly remount, call drive.mount(\"/content/drive\", force_remount=True).\n"
          ]
        }
      ],
      "source": [
        "from google.colab import drive\n",
        "drive.mount('/content/drive')\n"
      ]
    },
    {
      "cell_type": "code",
      "execution_count": 3,
      "metadata": {
        "id": "fWwghmbb339V"
      },
      "outputs": [],
      "source": [
        "# Path to the tar file in Google Drive\n",
        "tar_file_path = '/content/drive/My Drive/aclImdb_v1.tar.gz'"
      ]
    },
    {
      "cell_type": "code",
      "execution_count": 4,
      "metadata": {
        "id": "VlzZ1MZm4BYA"
      },
      "outputs": [],
      "source": [
        "# Unzip the file to a directory\n",
        "with tarfile.open(tar_file_path, 'r') as tar_ref:\n",
        "    tar_ref.extractall('/content/aclImdb')"
      ]
    },
    {
      "cell_type": "code",
      "execution_count": 5,
      "metadata": {
        "id": "dcJKGv4o32gD"
      },
      "outputs": [],
      "source": [
        "data_dir = '/content/aclImdb/aclImdb'\n",
        "train_dir = os.path.join(data_dir, 'train')\n",
        "test_dir = os.path.join(data_dir, 'test')"
      ]
    },
    {
      "cell_type": "code",
      "execution_count": 6,
      "metadata": {
        "id": "gbt95QFi32gE"
      },
      "outputs": [],
      "source": [
        "# Load data\n",
        "def load_data_from_directory(directory):\n",
        "    texts = []\n",
        "    labels = []\n",
        "    for label_type in ['neg', 'pos']:\n",
        "        dir_name = os.path.join(directory, label_type)\n",
        "        for fname in os.listdir(dir_name):\n",
        "            if fname.endswith('.txt'):\n",
        "                with open(os.path.join(dir_name, fname), 'r', encoding='utf-8') as f:\n",
        "                    texts.append(f.read())\n",
        "                if label_type == 'neg':\n",
        "                    labels.append(0)\n",
        "                else:\n",
        "                    labels.append(1)\n",
        "    return texts, labels\n",
        "\n",
        "train_texts, train_labels = load_data_from_directory(train_dir)\n",
        "test_texts, test_labels = load_data_from_directory(test_dir)"
      ]
    },
    {
      "cell_type": "code",
      "execution_count": 7,
      "metadata": {
        "colab": {
          "base_uri": "https://localhost:8080/"
        },
        "id": "UuZeSF_932gL",
        "outputId": "b3cd771b-3528-4bee-f8e1-9609dda72ae2"
      },
      "outputs": [
        {
          "name": "stdout",
          "output_type": "stream",
          "text": [
            "                                                text  label\n",
            "0  What a terrible movie. The acting was bad, the...      0\n",
            "1  I was bored, around 10pm, so I watched this mo...      0\n",
            "2  This film was a yawn from titles to credits, i...      0\n",
            "3  the characters at depth-less rip offs. you've ...      0\n",
            "4  seriously what the hell was this movie about,,...      0\n"
          ]
        }
      ],
      "source": [
        "# Create DataFrames\n",
        "train_df = pd.DataFrame({'text': train_texts, 'label': train_labels})\n",
        "print(train_df.head())\n"
      ]
    },
    {
      "cell_type": "code",
      "execution_count": 8,
      "metadata": {
        "colab": {
          "base_uri": "https://localhost:8080/"
        },
        "id": "7DQGaS1N32gN",
        "outputId": "abb003fb-16fe-4f0f-aea5-013cbeffbc10"
      },
      "outputs": [
        {
          "name": "stdout",
          "output_type": "stream",
          "text": [
            "                                                text  label\n",
            "0  This is a semi fictional memoir of an \"interna...      0\n",
            "1  The IMDB plot summary erroneously makes it sou...      0\n",
            "2  The frustrating thing about a movie like this,...      0\n",
            "3  The scariest thing about this horror movie is ...      0\n",
            "4  Worst movie ever!! Its not clever or funny or ...      0\n"
          ]
        }
      ],
      "source": [
        "test_df = pd.DataFrame({'text': test_texts, 'label': test_labels})\n",
        "print(test_df.head())"
      ]
    },
    {
      "cell_type": "code",
      "execution_count": 9,
      "metadata": {
        "colab": {
          "base_uri": "https://localhost:8080/"
        },
        "id": "dYX5C0XG32gJ",
        "outputId": "18a25d43-05cc-47c4-e72f-6ef1f207522e"
      },
      "outputs": [
        {
          "name": "stdout",
          "output_type": "stream",
          "text": [
            "Training data label distribution:\n",
            "Positive reviews: 12500\n",
            "Negative reviews: 12500\n",
            "Testing data label distribution:\n",
            "Positive reviews: 12500\n",
            "Negative reviews: 12500\n"
          ]
        }
      ],
      "source": [
        "# Check label distribution\n",
        "print(\"Training data label distribution:\")\n",
        "print(f\"Positive reviews: {np.sum(train_labels)}\")\n",
        "print(f\"Negative reviews: {len(train_labels) - np.sum(train_labels)}\")\n",
        "\n",
        "print(\"Testing data label distribution:\")\n",
        "print(f\"Positive reviews: {np.sum(test_labels)}\")\n",
        "print(f\"Negative reviews: {len(test_labels) - np.sum(test_labels)}\")"
      ]
    },
    {
      "cell_type": "code",
      "execution_count": 10,
      "metadata": {
        "id": "wqRJP0wm32gP"
      },
      "outputs": [],
      "source": [
        "# Load additional files\n",
        "vocab_path = os.path.join(data_dir, 'imdb.vocab')\n",
        "ratings_path = os.path.join(data_dir, 'imdbEr.txt')\n",
        "\n",
        "# Read vocabulary\n",
        "with open(vocab_path, 'r', encoding='utf-8') as f:\n",
        "    vocab = f.read().splitlines()"
      ]
    },
    {
      "cell_type": "code",
      "execution_count": 11,
      "metadata": {
        "id": "UnnGCOnM32gQ"
      },
      "outputs": [],
      "source": [
        "# Read expected ratings\n",
        "expected_ratings = np.loadtxt(ratings_path)"
      ]
    },
    {
      "cell_type": "code",
      "execution_count": 12,
      "metadata": {
        "colab": {
          "base_uri": "https://localhost:8080/"
        },
        "id": "3GmNFEZ532gR",
        "outputId": "bccaf84e-165e-4eca-8556-519628e014f6"
      },
      "outputs": [
        {
          "name": "stdout",
          "output_type": "stream",
          "text": [
            "  word  expected_rating\n",
            "0  the         0.049097\n",
            "1  and         0.201364\n",
            "2    a         0.033395\n",
            "3   of         0.099838\n",
            "4   to        -0.079021\n"
          ]
        }
      ],
      "source": [
        "# Combine vocab and ratings into a DataFrame for better understanding\n",
        "vocab_df = pd.DataFrame({'word': vocab, 'expected_rating': expected_ratings})\n",
        "print(vocab_df.head())"
      ]
    },
    {
      "cell_type": "code",
      "execution_count": 13,
      "metadata": {
        "id": "TLPrM_VA32gS"
      },
      "outputs": [],
      "source": [
        "\n",
        "\n",
        "# Create a Tokenizer instance\n",
        "tokenizer = Tokenizer(num_words=20000)\n",
        "tokenizer.fit_on_texts(train_texts)"
      ]
    },
    {
      "cell_type": "code",
      "execution_count": 14,
      "metadata": {
        "id": "isjTWQMu32gU"
      },
      "outputs": [],
      "source": [
        "# Parameters\n",
        "max_features = 20000\n",
        "max_len = 250"
      ]
    },
    {
      "cell_type": "code",
      "execution_count": 15,
      "metadata": {
        "id": "JCTg9Abo32gV"
      },
      "outputs": [],
      "source": [
        "# Tokenize the text\n",
        "tokenizer = Tokenizer(num_words=max_features)\n",
        "tokenizer.fit_on_texts(train_texts)\n"
      ]
    },
    {
      "cell_type": "code",
      "execution_count": 16,
      "metadata": {
        "id": "j1HQuZCi32gV"
      },
      "outputs": [],
      "source": [
        "# Convert text to sequences of integers\n",
        "x_train = tokenizer.texts_to_sequences(train_texts)\n",
        "x_test = tokenizer.texts_to_sequences(test_texts)"
      ]
    },
    {
      "cell_type": "code",
      "execution_count": 17,
      "metadata": {
        "id": "ZqtSfAci32gW"
      },
      "outputs": [],
      "source": [
        "# Pad sequences to ensure uniform input length\n",
        "x_train = pad_sequences(x_train, maxlen=max_len)\n",
        "x_test = pad_sequences(x_test, maxlen=max_len)"
      ]
    },
    {
      "cell_type": "code",
      "execution_count": 18,
      "metadata": {
        "id": "0aXMJIYK32gX"
      },
      "outputs": [],
      "source": [
        "# Convert labels to numpy arrays\n",
        "y_train = np.array(train_labels)\n",
        "y_test = np.array(test_labels)"
      ]
    },
    {
      "cell_type": "code",
      "execution_count": 19,
      "metadata": {
        "colab": {
          "base_uri": "https://localhost:8080/"
        },
        "id": "R4jhxxA132gX",
        "outputId": "90c821db-65fd-4aff-b5ff-45f6426c5317"
      },
      "outputs": [
        {
          "name": "stdout",
          "output_type": "stream",
          "text": [
            "Training data shape: (20000, 250)\n",
            "Validation data shape: (5000, 250)\n",
            "Test data shape: (25000, 250)\n"
          ]
        }
      ],
      "source": [
        "# Split training data into training and validation sets\n",
        "x_train, x_val, y_train, y_val = train_test_split(x_train, y_train, test_size=0.2, random_state=42)\n",
        "\n",
        "print(\"Training data shape:\", x_train.shape)\n",
        "print(\"Validation data shape:\", x_val.shape)\n",
        "print(\"Test data shape:\", x_test.shape)"
      ]
    },
    {
      "cell_type": "code",
      "execution_count": 20,
      "metadata": {
        "id": "NyMYAGnaYIGU"
      },
      "outputs": [],
      "source": [
        "# Train a Word2Vec model\n",
        "sentences = [text.split() for text in train_texts]\n",
        "word2vec_model = Word2Vec(sentences, vector_size=100, window=5, min_count=1, workers=4)"
      ]
    },
    {
      "cell_type": "code",
      "execution_count": 21,
      "metadata": {
        "id": "2iOiI9QdYSek"
      },
      "outputs": [],
      "source": [
        "# Create an embedding matrix\n",
        "word_index = tokenizer.word_index\n",
        "embedding_dim = 100\n",
        "embedding_matrix = np.zeros((len(word_index) + 1, embedding_dim))\n",
        "for word, i in word_index.items():\n",
        "    if word in word2vec_model.wv:\n",
        "        embedding_matrix[i] = word2vec_model.wv[word]\n",
        "    else:\n",
        "        embedding_matrix[i] = np.random.normal(0, np.sqrt(0.25), embedding_dim)"
      ]
    },
    {
      "cell_type": "code",
      "execution_count": 22,
      "metadata": {
        "id": "qI3IlM3J5JcZ"
      },
      "outputs": [],
      "source": [
        "model = Sequential()\n",
        "model.add(Embedding(input_dim=len(word_index) + 1, output_dim=embedding_dim, weights=[embedding_matrix], input_length=max_len, trainable=False))\n",
        "model.add(Bidirectional(LSTM(units=128, activation='tanh', dropout=0.3, recurrent_dropout=0.0)))\n",
        "model.add(Dense(1, activation='sigmoid', kernel_regularizer=l2(0.01)))\n",
        "model.compile(optimizer=Adam(learning_rate=0.001), loss='binary_crossentropy', metrics=['accuracy'])\n"
      ]
    },
    {
      "cell_type": "code",
      "execution_count": 23,
      "metadata": {
        "colab": {
          "base_uri": "https://localhost:8080/"
        },
        "id": "Zr0TpFD15PSy",
        "outputId": "0d69b0f2-a678-4329-a393-7934725600f1"
      },
      "outputs": [
        {
          "name": "stdout",
          "output_type": "stream",
          "text": [
            "Epoch 1/10\n",
            "625/625 [==============================] - 24s 27ms/step - loss: 0.5606 - accuracy: 0.7088 - val_loss: 0.4320 - val_accuracy: 0.8020\n",
            "Epoch 2/10\n",
            "625/625 [==============================] - 15s 24ms/step - loss: 0.4242 - accuracy: 0.8091 - val_loss: 0.3699 - val_accuracy: 0.8392\n",
            "Epoch 3/10\n",
            "625/625 [==============================] - 15s 24ms/step - loss: 0.3735 - accuracy: 0.8392 - val_loss: 0.3383 - val_accuracy: 0.8596\n",
            "Epoch 4/10\n",
            "625/625 [==============================] - 15s 24ms/step - loss: 0.3386 - accuracy: 0.8582 - val_loss: 0.3353 - val_accuracy: 0.8614\n",
            "Epoch 5/10\n",
            "625/625 [==============================] - 15s 24ms/step - loss: 0.3198 - accuracy: 0.8697 - val_loss: 0.3377 - val_accuracy: 0.8668\n",
            "Epoch 6/10\n",
            "625/625 [==============================] - 15s 25ms/step - loss: 0.3035 - accuracy: 0.8755 - val_loss: 0.3163 - val_accuracy: 0.8726\n",
            "Epoch 7/10\n",
            "625/625 [==============================] - 15s 24ms/step - loss: 0.2876 - accuracy: 0.8844 - val_loss: 0.3195 - val_accuracy: 0.8722\n",
            "Epoch 8/10\n",
            "625/625 [==============================] - 15s 23ms/step - loss: 0.2743 - accuracy: 0.8916 - val_loss: 0.3274 - val_accuracy: 0.8832\n",
            "Epoch 9/10\n",
            "625/625 [==============================] - 15s 24ms/step - loss: 0.2626 - accuracy: 0.8978 - val_loss: 0.3026 - val_accuracy: 0.8844\n",
            "Epoch 10/10\n",
            "625/625 [==============================] - 15s 24ms/step - loss: 0.2532 - accuracy: 0.9017 - val_loss: 0.3136 - val_accuracy: 0.8828\n"
          ]
        }
      ],
      "source": [
        "save_dir = '/content/drive/My Drive/Sentiment_analysis_model'\n",
        "os.makedirs(save_dir, exist_ok=True)\n",
        "\n",
        "# Early stopping and model checkpointing\n",
        "early_stopping = EarlyStopping(monitor='val_loss', patience=4, restore_best_weights=True)\n",
        "model_checkpoint = ModelCheckpoint(os.path.join(save_dir, 'sentiment_model.keras'), save_best_only=True, monitor='val_loss', mode='min')\n",
        "\n",
        "# Train the model with early stopping and model checkpointing\n",
        "history = model.fit(x_train, y_train, epochs=10, batch_size=32, validation_data=(x_val, y_val), callbacks=[early_stopping, model_checkpoint])"
      ]
    },
    {
      "cell_type": "code",
      "execution_count": 24,
      "metadata": {
        "colab": {
          "base_uri": "https://localhost:8080/"
        },
        "id": "dlHrq3SJ5ZA1",
        "outputId": "e25137aa-3dc8-4a63-bf7d-53516c96dde5"
      },
      "outputs": [
        {
          "name": "stdout",
          "output_type": "stream",
          "text": [
            "782/782 [==============================] - 8s 11ms/step - loss: 0.2965 - accuracy: 0.8852\n",
            "Test Loss: 0.29653677344322205\n",
            "Test Accuracy: 0.8852400183677673\n",
            "Training Accuracy: 0.9017000198364258\n",
            "Validation Accuracy: 0.8827999830245972\n",
            "The model is not overfitting.\n"
          ]
        }
      ],
      "source": [
        "# Evaluate the model on test data\n",
        "score = model.evaluate(x_test, y_test)\n",
        "test_loss, test_accuracy = score[0], score[1]\n",
        "print(\"Test Loss:\", test_loss)\n",
        "print(\"Test Accuracy:\", test_accuracy)\n",
        "\n",
        "# Get training and validation accuracy\n",
        "train_accuracy = history.history['accuracy'][-1]\n",
        "val_accuracy = history.history['val_accuracy'][-1]\n",
        "print(\"Training Accuracy:\", train_accuracy)\n",
        "print(\"Validation Accuracy:\", val_accuracy)\n",
        "\n",
        "# Evaluate if the model is overfitting\n",
        "if train_accuracy - val_accuracy > 0.05:\n",
        "    print(\"The model is overfitting.\")\n",
        "else:\n",
        "    print(\"The model is not overfitting.\")"
      ]
    },
    {
      "cell_type": "code",
      "execution_count": 25,
      "metadata": {
        "colab": {
          "base_uri": "https://localhost:8080/",
          "height": 1000
        },
        "id": "gTF2QzYm-r41",
        "outputId": "a3d6cc3f-485e-4d96-9eb1-7e8494963280"
      },
      "outputs": [
        {
          "data": {
            "image/png": "[encoded data removed]",
            "text/plain": [
              "<Figure size 1200x600 with 1 Axes>"
            ]
          },
          "metadata": {},
          "output_type": "display_data"
        },
        {
          "data": {
            "image/png": "[encoded data removed]",
            "text/plain": [
              "<Figure size 1200x600 with 1 Axes>"
            ]
          },
          "metadata": {},
          "output_type": "display_data"
        }
      ],
      "source": [
        "\n",
        "# Plot training & validation accuracy values\n",
        "plt.figure(figsize=(12, 6))\n",
        "plt.plot(history.history['accuracy'])\n",
        "plt.plot(history.history['val_accuracy'])\n",
        "plt.title('Model accuracy')\n",
        "plt.xlabel('Epoch')\n",
        "plt.ylabel('Accuracy')\n",
        "plt.legend(['Train', 'Validation'], loc='upper left')\n",
        "plt.show()\n",
        "\n",
        "# Plot training & validation loss values\n",
        "plt.figure(figsize=(12, 6))\n",
        "plt.plot(history.history['loss'])\n",
        "plt.plot(history.history['val_loss'])\n",
        "plt.title('Model loss')\n",
        "plt.xlabel('Epoch')\n",
        "plt.ylabel('Loss')\n",
        "plt.legend(['Train', 'Validation'], loc='upper left')\n",
        "plt.show()\n"
      ]
    }
  ],
  "metadata": {
    "accelerator": "GPU",
    "colab": {
      "gpuType": "T4",
      "provenance": []
    },
    "kernelspec": {
      "display_name": "Python 3",
      "name": "python3"
    },
    "language_info": {
      "codemirror_mode": {
        "name": "ipython",
        "version": 3
      },
      "file_extension": ".py",
      "mimetype": "text/x-python",
      "name": "python",
      "nbconvert_exporter": "python",
      "pygments_lexer": "ipython3",
      "version": "3.10.11"
    }
  },
  "nbformat": 4,
  "nbformat_minor": 0
}
