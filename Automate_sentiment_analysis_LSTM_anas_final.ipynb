{
  "cells": [
    {
      "cell_type": "code",
      "source": [
        "import tarfile\n",
        "import os\n",
        "import numpy as np\n",
        "import pandas as pd\n",
        "import matplotlib.pyplot as plt\n",
        "import seaborn as sns\n",
        "from gensim.models import Word2Vec\n",
        "from sklearn.model_selection import train_test_split\n",
        "from sklearn.metrics import confusion_matrix, classification_report\n",
        "from tensorflow.keras.preprocessing.text import Tokenizer\n",
        "from tensorflow.keras.preprocessing.sequence import pad_sequences\n",
        "from tensorflow.keras.models import Sequential\n",
        "from tensorflow.keras.layers import Embedding, LSTM, Bidirectional, Dense, Dropout\n",
        "from tensorflow.keras.optimizers import Adam\n",
        "from tensorflow.keras.regularizers import l2\n",
        "from tensorflow.keras.callbacks import EarlyStopping, ModelCheckpoint"
      ],
      "metadata": {
        "id": "L5jvIl8Zz0dG"
      },
      "execution_count": 1,
      "outputs": []
    },
    {
      "cell_type": "code",
      "execution_count": 2,
      "metadata": {
        "colab": {
          "base_uri": "https://localhost:8080/"
        },
        "id": "xUXFCp0S34UZ",
        "outputId": "8a1b07cd-1bfb-4863-9dae-e53d28f3b0a3"
      },
      "outputs": [
        {
          "output_type": "stream",
          "name": "stdout",
          "text": [
            "Drive already mounted at /content/drive; to attempt to forcibly remount, call drive.mount(\"/content/drive\", force_remount=True).\n"
          ]
        }
      ],
      "source": [
        "from google.colab import drive\n",
        "drive.mount('/content/drive')\n"
      ]
    },
    {
      "cell_type": "code",
      "execution_count": 3,
      "metadata": {
        "id": "fWwghmbb339V"
      },
      "outputs": [],
      "source": [
        "tar_file_path = '/content/drive/My Drive/aclImdb_v1.tar.gz'"
      ]
    },
    {
      "cell_type": "code",
      "execution_count": 4,
      "metadata": {
        "id": "VlzZ1MZm4BYA"
      },
      "outputs": [],
      "source": [
        "# Unzip the file to a directory\n",
        "with tarfile.open(tar_file_path, 'r') as tar_ref:\n",
        "    tar_ref.extractall('/content/aclImdb')"
      ]
    },
    {
      "cell_type": "code",
      "execution_count": 5,
      "metadata": {
        "id": "dcJKGv4o32gD"
      },
      "outputs": [],
      "source": [
        "data_dir = '/content/aclImdb/aclImdb'\n",
        "train_dir = os.path.join(data_dir, 'train')\n",
        "test_dir = os.path.join(data_dir, 'test')"
      ]
    },
    {
      "cell_type": "code",
      "execution_count": 6,
      "metadata": {
        "id": "gbt95QFi32gE"
      },
      "outputs": [],
      "source": [
        "# Load data\n",
        "def load_data_from_directory(directory):\n",
        "    texts = []\n",
        "    labels = []\n",
        "    for label_type in ['neg', 'pos']:\n",
        "        dir_name = os.path.join(directory, label_type)\n",
        "        for fname in os.listdir(dir_name):\n",
        "            if fname.endswith('.txt'):\n",
        "                with open(os.path.join(dir_name, fname), 'r', encoding='utf-8') as f:\n",
        "                    texts.append(f.read())\n",
        "                if label_type == 'neg':\n",
        "                    labels.append(0)\n",
        "                else:\n",
        "                    labels.append(1)\n",
        "    return texts, labels\n",
        "\n",
        "train_texts, train_labels = load_data_from_directory(train_dir)\n",
        "test_texts, test_labels = load_data_from_directory(test_dir)"
      ]
    },
    {
      "cell_type": "code",
      "execution_count": 7,
      "metadata": {
        "colab": {
          "base_uri": "https://localhost:8080/"
        },
        "id": "UuZeSF_932gL",
        "outputId": "0ed45ce1-3e40-4b66-e1ca-6d9efd2a5712"
      },
      "outputs": [
        {
          "output_type": "stream",
          "name": "stdout",
          "text": [
            "                                                text  label\n",
            "0  To be clear from the get go, 'The Bagman' is v...      0\n",
            "1  When people ask me whats the worst movie I've ...      0\n",
            "2  If you haven't seen the gong show TV series th...      0\n",
            "3  Beyond a shadow of a doubt Mysterious Planet i...      0\n",
            "4  Before I begin, I want to briefly say that thi...      0\n"
          ]
        }
      ],
      "source": [
        "train_df = pd.DataFrame({'text': train_texts, 'label': train_labels})\n",
        "print(train_df.head())\n"
      ]
    },
    {
      "cell_type": "code",
      "execution_count": 8,
      "metadata": {
        "colab": {
          "base_uri": "https://localhost:8080/"
        },
        "id": "7DQGaS1N32gN",
        "outputId": "87528d14-bf8f-47c7-8b27-120e13cd952a"
      },
      "outputs": [
        {
          "output_type": "stream",
          "name": "stdout",
          "text": [
            "                                                text  label\n",
            "0  Help, I've ended up in cinema hell! What a com...      0\n",
            "1  Watched this piece ONDEMAND because the descri...      0\n",
            "2  Whenever someone tries to tell me that they th...      0\n",
            "3  Wow! That James Purefoy looks exactly like Tho...      0\n",
            "4  Film starts off great in 1872 with a violent, ...      0\n"
          ]
        }
      ],
      "source": [
        "test_df = pd.DataFrame({'text': test_texts, 'label': test_labels})\n",
        "print(test_df.head())"
      ]
    },
    {
      "cell_type": "code",
      "execution_count": 9,
      "metadata": {
        "colab": {
          "base_uri": "https://localhost:8080/"
        },
        "id": "dYX5C0XG32gJ",
        "outputId": "151ae594-2ef1-46cb-e136-70cf5b29323b"
      },
      "outputs": [
        {
          "output_type": "stream",
          "name": "stdout",
          "text": [
            "Training data label distribution:\n",
            "Positive reviews: 12500\n",
            "Negative reviews: 12500\n",
            "Testing data label distribution:\n",
            "Positive reviews: 12500\n",
            "Negative reviews: 12500\n"
          ]
        }
      ],
      "source": [
        "# Check label distribution\n",
        "print(\"Training data label distribution:\")\n",
        "print(f\"Positive reviews: {np.sum(train_labels)}\")\n",
        "print(f\"Negative reviews: {len(train_labels) - np.sum(train_labels)}\")\n",
        "\n",
        "print(\"Testing data label distribution:\")\n",
        "print(f\"Positive reviews: {np.sum(test_labels)}\")\n",
        "print(f\"Negative reviews: {len(test_labels) - np.sum(test_labels)}\")"
      ]
    },
    {
      "cell_type": "code",
      "execution_count": 10,
      "metadata": {
        "id": "wqRJP0wm32gP"
      },
      "outputs": [],
      "source": [
        "vocab_path = os.path.join(data_dir, 'imdb.vocab')\n",
        "ratings_path = os.path.join(data_dir, 'imdbEr.txt')\n",
        "\n",
        "# Read vocabulary\n",
        "with open(vocab_path, 'r', encoding='utf-8') as f:\n",
        "    vocab = f.read().splitlines()"
      ]
    },
    {
      "cell_type": "code",
      "execution_count": 11,
      "metadata": {
        "id": "UnnGCOnM32gQ"
      },
      "outputs": [],
      "source": [
        "# Read expected ratings\n",
        "expected_ratings = np.loadtxt(ratings_path)"
      ]
    },
    {
      "cell_type": "code",
      "execution_count": 12,
      "metadata": {
        "colab": {
          "base_uri": "https://localhost:8080/"
        },
        "id": "3GmNFEZ532gR",
        "outputId": "4273bb72-070d-4ab3-bb70-50a73711eeb6"
      },
      "outputs": [
        {
          "output_type": "stream",
          "name": "stdout",
          "text": [
            "  word  expected_rating\n",
            "0  the         0.049097\n",
            "1  and         0.201364\n",
            "2    a         0.033395\n",
            "3   of         0.099838\n",
            "4   to        -0.079021\n"
          ]
        }
      ],
      "source": [
        "# Combine vocab and ratings into a DataFrame for better understanding\n",
        "vocab_df = pd.DataFrame({'word': vocab, 'expected_rating': expected_ratings})\n",
        "print(vocab_df.head())"
      ]
    },
    {
      "cell_type": "code",
      "execution_count": 13,
      "metadata": {
        "id": "TLPrM_VA32gS"
      },
      "outputs": [],
      "source": [
        "# Create a Tokenizer instance\n",
        "tokenizer = Tokenizer(num_words=20000)\n",
        "tokenizer.fit_on_texts(train_texts)"
      ]
    },
    {
      "cell_type": "code",
      "execution_count": 14,
      "metadata": {
        "id": "isjTWQMu32gU"
      },
      "outputs": [],
      "source": [
        "# Parameters\n",
        "max_features = 20000\n",
        "max_len = 250"
      ]
    },
    {
      "cell_type": "code",
      "execution_count": 15,
      "metadata": {
        "id": "JCTg9Abo32gV"
      },
      "outputs": [],
      "source": [
        "# Tokenize the text\n",
        "tokenizer = Tokenizer(num_words=max_features)\n",
        "tokenizer.fit_on_texts(train_texts)\n"
      ]
    },
    {
      "cell_type": "code",
      "execution_count": 16,
      "metadata": {
        "id": "j1HQuZCi32gV"
      },
      "outputs": [],
      "source": [
        "# text to sequences of integers\n",
        "x_train = tokenizer.texts_to_sequences(train_texts)\n",
        "x_test = tokenizer.texts_to_sequences(test_texts)"
      ]
    },
    {
      "cell_type": "code",
      "execution_count": 17,
      "metadata": {
        "id": "ZqtSfAci32gW"
      },
      "outputs": [],
      "source": [
        "# Pad sequences to ensure uniform input length\n",
        "x_train = pad_sequences(x_train, maxlen=max_len)\n",
        "x_test = pad_sequences(x_test, maxlen=max_len)"
      ]
    },
    {
      "cell_type": "code",
      "execution_count": 18,
      "metadata": {
        "id": "0aXMJIYK32gX"
      },
      "outputs": [],
      "source": [
        "# labels to numpy arrays\n",
        "y_train = np.array(train_labels)\n",
        "y_test = np.array(test_labels)"
      ]
    },
    {
      "cell_type": "code",
      "execution_count": 19,
      "metadata": {
        "colab": {
          "base_uri": "https://localhost:8080/"
        },
        "id": "R4jhxxA132gX",
        "outputId": "cece3cd0-bbd0-4945-cad4-7b461400fda0"
      },
      "outputs": [
        {
          "output_type": "stream",
          "name": "stdout",
          "text": [
            "Training data shape: (20000, 250)\n",
            "Validation data shape: (5000, 250)\n",
            "Test data shape: (25000, 250)\n"
          ]
        }
      ],
      "source": [
        "# Split training data into training and validation sets\n",
        "x_train, x_val, y_train, y_val = train_test_split(x_train, y_train, test_size=0.2, random_state=42)\n",
        "\n",
        "print(\"Training data shape:\", x_train.shape)\n",
        "print(\"Validation data shape:\", x_val.shape)\n",
        "print(\"Test data shape:\", x_test.shape)"
      ]
    },
    {
      "cell_type": "code",
      "source": [
        "#Word2Vec model\n",
        "sentences = [text.split() for text in train_texts]\n",
        "word2vec_model = Word2Vec(sentences, vector_size=100, window=5, min_count=1, workers=4)"
      ],
      "metadata": {
        "id": "NyMYAGnaYIGU"
      },
      "execution_count": 20,
      "outputs": []
    },
    {
      "cell_type": "code",
      "source": [
        "# embedding matrix\n",
        "word_index = tokenizer.word_index\n",
        "embedding_dim = 100\n",
        "embedding_matrix = np.zeros((len(word_index) + 1, embedding_dim))\n",
        "for word, i in word_index.items():\n",
        "    if word in word2vec_model.wv:\n",
        "        embedding_matrix[i] = word2vec_model.wv[word]\n",
        "    else:\n",
        "        embedding_matrix[i] = np.random.normal(0, np.sqrt(0.25), embedding_dim)"
      ],
      "metadata": {
        "id": "2iOiI9QdYSek"
      },
      "execution_count": 21,
      "outputs": []
    },
    {
      "cell_type": "code",
      "source": [
        "model = Sequential()\n",
        "model.add(Embedding(input_dim=len(word_index) + 1, output_dim=embedding_dim, weights=[embedding_matrix], input_length=max_len, trainable=False))\n",
        "model.add(Bidirectional(LSTM(units=128, activation='tanh', dropout=0.3, recurrent_dropout=0.0)))\n",
        "model.add(Dense(1, activation='sigmoid', kernel_regularizer=l2(0.01)))\n",
        "model.compile(optimizer=Adam(learning_rate=0.001), loss='binary_crossentropy', metrics=['accuracy'])\n"
      ],
      "metadata": {
        "id": "qI3IlM3J5JcZ"
      },
      "execution_count": 22,
      "outputs": []
    },
    {
      "cell_type": "code",
      "source": [
        "save_dir = '/content/drive/My Drive/Sentiment_analysis_model'\n",
        "os.makedirs(save_dir, exist_ok=True)\n",
        "\n",
        "early_stopping = EarlyStopping(monitor='val_loss', patience=4, restore_best_weights=True)\n",
        "model_checkpoint = ModelCheckpoint(os.path.join(save_dir, 'sentiment_model.keras'), save_best_only=True, monitor='val_loss', mode='min')\n",
        "\n",
        "# Train the model with early stopping and model checkpointing\n",
        "history = model.fit(x_train, y_train, epochs=10, batch_size=32, validation_data=(x_val, y_val), callbacks=[early_stopping, model_checkpoint])"
      ],
      "metadata": {
        "colab": {
          "base_uri": "https://localhost:8080/"
        },
        "id": "Zr0TpFD15PSy",
        "outputId": "b02b745e-7460-4408-b02a-7f8431858b31"
      },
      "execution_count": 23,
      "outputs": [
        {
          "output_type": "stream",
          "name": "stdout",
          "text": [
            "Epoch 1/10\n",
            "625/625 [==============================] - 22s 25ms/step - loss: 0.5608 - accuracy: 0.7157 - val_loss: 0.4972 - val_accuracy: 0.7786\n",
            "Epoch 2/10\n",
            "625/625 [==============================] - 13s 20ms/step - loss: 0.4255 - accuracy: 0.8097 - val_loss: 0.3583 - val_accuracy: 0.8422\n",
            "Epoch 3/10\n",
            "625/625 [==============================] - 13s 20ms/step - loss: 0.3748 - accuracy: 0.8373 - val_loss: 0.3441 - val_accuracy: 0.8516\n",
            "Epoch 4/10\n",
            "625/625 [==============================] - 14s 22ms/step - loss: 0.3396 - accuracy: 0.8591 - val_loss: 0.3265 - val_accuracy: 0.8582\n",
            "Epoch 5/10\n",
            "625/625 [==============================] - 13s 21ms/step - loss: 0.3182 - accuracy: 0.8703 - val_loss: 0.3193 - val_accuracy: 0.8738\n",
            "Epoch 6/10\n",
            "625/625 [==============================] - 12s 19ms/step - loss: 0.2995 - accuracy: 0.8784 - val_loss: 0.3306 - val_accuracy: 0.8674\n",
            "Epoch 7/10\n",
            "625/625 [==============================] - 12s 19ms/step - loss: 0.2848 - accuracy: 0.8872 - val_loss: 0.3023 - val_accuracy: 0.8754\n",
            "Epoch 8/10\n",
            "625/625 [==============================] - 12s 20ms/step - loss: 0.2681 - accuracy: 0.8946 - val_loss: 0.3264 - val_accuracy: 0.8734\n",
            "Epoch 9/10\n",
            "625/625 [==============================] - 13s 20ms/step - loss: 0.2577 - accuracy: 0.9003 - val_loss: 0.2999 - val_accuracy: 0.8778\n",
            "Epoch 10/10\n",
            "625/625 [==============================] - 12s 20ms/step - loss: 0.2470 - accuracy: 0.9054 - val_loss: 0.3079 - val_accuracy: 0.8804\n"
          ]
        }
      ]
    },
    {
      "cell_type": "code",
      "source": [
        "# Evaluating the model on test data\n",
        "score = model.evaluate(x_test, y_test)\n",
        "test_loss, test_accuracy = score[0], score[1]\n",
        "print(\"Test Loss:\", test_loss)\n",
        "print(\"Test Accuracy:\", test_accuracy)\n",
        "\n",
        "#training and validation accuracy\n",
        "train_accuracy = history.history['accuracy'][-1]\n",
        "val_accuracy = history.history['val_accuracy'][-1]\n",
        "print(\"Training Accuracy:\", train_accuracy)\n",
        "print(\"Validation Accuracy:\", val_accuracy)\n",
        "\n",
        "if train_accuracy - val_accuracy > 0.05:\n",
        "    print(\"The model is overfitting.\")\n",
        "else:\n",
        "    print(\"The model is not overfitting.\")"
      ],
      "metadata": {
        "colab": {
          "base_uri": "https://localhost:8080/"
        },
        "id": "dlHrq3SJ5ZA1",
        "outputId": "11ecb2f6-3a37-4b26-93f6-025a90317aaf"
      },
      "execution_count": 24,
      "outputs": [
        {
          "output_type": "stream",
          "name": "stdout",
          "text": [
            "782/782 [==============================] - 7s 9ms/step - loss: 0.2857 - accuracy: 0.8872\n",
            "Test Loss: 0.2856931984424591\n",
            "Test Accuracy: 0.8871999979019165\n",
            "Training Accuracy: 0.9053500294685364\n",
            "Validation Accuracy: 0.8804000020027161\n",
            "The model is not overfitting.\n"
          ]
        }
      ]
    },
    {
      "cell_type": "code",
      "source": [
        "#confusion matrix and classification report\n",
        "def evaluate_model_performance(model, x_test, y_test):\n",
        "    y_pred = model.predict(x_test)\n",
        "    y_pred_classes = (y_pred > 0.5).astype(\"int32\")\n",
        "\n",
        "    cm = confusion_matrix(y_test, y_pred_classes)\n",
        "    plt.figure(figsize=(6, 4))\n",
        "    sns.heatmap(cm, annot=True, fmt='d', cmap='Blues', xticklabels=['Negative', 'Positive'], yticklabels=['Negative', 'Positive'])\n",
        "    plt.xlabel('Predicted')\n",
        "    plt.ylabel('True')\n",
        "    plt.title('Confusion Matrix')\n",
        "    plt.show()\n",
        "\n",
        "    cr = classification_report(y_test, y_pred_classes, target_names=['Negative', 'Positive'])\n",
        "    print(\"Classification Report:\\n\", cr)\n",
        "\n",
        "evaluate_model_performance(model, x_test, y_test)\n"
      ],
      "metadata": {
        "colab": {
          "base_uri": "https://localhost:8080/",
          "height": 601
        },
        "id": "VKGqq6ioMJiu",
        "outputId": "6c7a6ed5-20d6-4016-e2ec-fbcf744e64ff"
      },
      "execution_count": 25,
      "outputs": [
        {
          "output_type": "stream",
          "name": "stdout",
          "text": [
            "782/782 [==============================] - 6s 7ms/step\n"
          ]
        },
        {
          "output_type": "display_data",
          "data": {
            "text/plain": [
              "<Figure size 600x400 with 2 Axes>"
            ],
            "image/png": "[encoded data removed]"
          },
          "metadata": {}
        },
        {
          "output_type": "stream",
          "name": "stdout",
          "text": [
            "Classification Report:\n",
            "               precision    recall  f1-score   support\n",
            "\n",
            "    Negative       0.90      0.87      0.89     12500\n",
            "    Positive       0.88      0.90      0.89     12500\n",
            "\n",
            "    accuracy                           0.89     25000\n",
            "   macro avg       0.89      0.89      0.89     25000\n",
            "weighted avg       0.89      0.89      0.89     25000\n",
            "\n"
          ]
        }
      ]
    },
    {
      "cell_type": "code",
      "source": [
        "# Plot training and validation loss and accuracy\n",
        "def plot_training_history(history):\n",
        "    fig, axs = plt.subplots(1, 2, figsize=(12, 4))\n",
        "\n",
        "    axs[0].plot(history.history['loss'], label='Train Loss')\n",
        "    axs[0].plot(history.history['val_loss'], label='Val Loss')\n",
        "    axs[0].set_title('Loss over epochs')\n",
        "    axs[0].set_xlabel('Epochs')\n",
        "    axs[0].set_ylabel('Loss')\n",
        "    axs[0].legend()\n",
        "\n",
        "    axs[1].plot(history.history['accuracy'], label='Train Accuracy')\n",
        "    axs[1].plot(history.history['val_accuracy'], label='Val Accuracy')\n",
        "    axs[1].set_title('Accuracy over epochs')\n",
        "    axs[1].set_xlabel('Epochs')\n",
        "    axs[1].set_ylabel('Accuracy')\n",
        "    axs[1].legend()\n",
        "\n",
        "    plt.show()\n",
        "\n",
        "plot_training_history(history)\n"
      ],
      "metadata": {
        "colab": {
          "base_uri": "https://localhost:8080/",
          "height": 410
        },
        "id": "C9UMvvCEKJzG",
        "outputId": "be92bdd7-ee30-437f-c23e-5e8ec088f708"
      },
      "execution_count": 26,
      "outputs": [
        {
          "output_type": "display_data",
          "data": {
            "text/plain": [
              "<Figure size 1200x400 with 2 Axes>"
            ],
            "image/png": "[encoded data removed]"
          },
          "metadata": {}
        }
      ]
    },
    {
      "cell_type": "code",
      "source": [
        "def sample_predictions(model, x_test, test_texts, y_test, num_samples=5):\n",
        "    y_pred = model.predict(x_test)\n",
        "    y_pred_classes = (y_pred > 0.5).astype(\"int32\")\n",
        "\n",
        "    indices = np.random.choice(len(x_test), num_samples, replace=False)\n",
        "\n",
        "    # DataFrame to display the results\n",
        "    samples = []\n",
        "    for i in indices:\n",
        "        samples.append({\n",
        "            'Review': test_texts[i],\n",
        "            'True Label': 'Positive' if y_test[i] == 1 else 'Negative',\n",
        "            'Predicted Label': 'Positive' if y_pred_classes[i] == 1 else 'Negative',\n",
        "            'Confidence': y_pred[i][0]\n",
        "        })\n",
        "\n",
        "    df_samples = pd.DataFrame(samples)\n",
        "\n",
        "    def highlight_misclassifications(row):\n",
        "        return ['background-color: #FFAAAA' if row['True Label'] != row['Predicted Label'] else '' for _ in row]\n",
        "\n",
        "    styled_df = df_samples.style.apply(highlight_misclassifications, axis=1)\n",
        "    display(styled_df)\n",
        "\n",
        "sample_predictions(model, x_test, test_texts, y_test, num_samples=5)\n"
      ],
      "metadata": {
        "colab": {
          "base_uri": "https://localhost:8080/",
          "height": 1000
        },
        "id": "0X8wJQ2OOdH0",
        "outputId": "6a20a05a-4cda-4a57-b656-4a014e70086a"
      },
      "execution_count": 28,
      "outputs": [
        {
          "output_type": "stream",
          "name": "stdout",
          "text": [
            "782/782 [==============================] - 7s 8ms/step\n"
          ]
        },
        {
          "output_type": "display_data",
          "data": {
            "text/plain": [
              "<pandas.io.formats.style.Styler at 0x7d9c6e2c76a0>"
            ],
            "text/html": [
              "<style type=\"text/css\">\n",
              "</style>\n",
              "<table id=\"T_70c41\" class=\"dataframe\">\n",
              "  <thead>\n",
              "    <tr>\n",
              "      <th class=\"blank level0\" >&nbsp;</th>\n",
              "      <th id=\"T_70c41_level0_col0\" class=\"col_heading level0 col0\" >Review</th>\n",
              "      <th id=\"T_70c41_level0_col1\" class=\"col_heading level0 col1\" >True Label</th>\n",
              "      <th id=\"T_70c41_level0_col2\" class=\"col_heading level0 col2\" >Predicted Label</th>\n",
              "      <th id=\"T_70c41_level0_col3\" class=\"col_heading level0 col3\" >Confidence</th>\n",
              "    </tr>\n",
              "  </thead>\n",
              "  <tbody>\n",
              "    <tr>\n",
              "      <th id=\"T_70c41_level0_row0\" class=\"row_heading level0 row0\" >0</th>\n",
              "      <td id=\"T_70c41_row0_col0\" class=\"data row0 col0\" >(Contains spoilers)<br /><br />Russia in the 13th century. The opening shot shows the relics of the last invasion: moldering uniforms, human skulls and a horse's skeleton. Prince Alexander Nevsky (Nikolai Cherkasov) chased the swedish army away and impressed the mongol ruler to such a degree that he proposes to promote him to the rank of captain. But Nevsky replies: \"Die in your homeland but don't leave it\". He intents to fish, build ships and trade. But he warns of a more dangerous enemy: Nearer, meaner and no possibility to buy oneself out: Germany. Their objective is Novgorod. They have already reached Pskov: Mothers and daughters suffer for their fathers and sons. The marauding occupation forces distribute the looty. Rich merchants want to purchase their liberty (always a place for some anti-capitalist p. r.), but the \"common people\" are ready to fight. They want Alexander as their leader. Pskov is burned to the ground. The teutonic knights feel invincible and have just a smug smile for the russian women who witness helplessly how their fathers and sons are butchered. Babies are thrown in the fire while high dignitaries of the church look on and remain idle. In Novgorod: Olga Danilovna has two admirers: rich and staid Gavrilo and tall and jolly Vasili. She promises to marry the most valiant. Vasili calls on Alexander Nevsky in Perejaslav. The prince decides not to wait for the attack but to strike at once. Even women put on a chain armor...The invaders want to bait the \"russian bear\", but Nevsky's stratagem stands the test: Lake Peipus is his war zone : His men know the territory but the germans, who are heavier, will break through the ice...<br /><br />Open your eyes and watch the most impressive battle scenes ever filmed. It's not just the multitude of extras (Who were, I think, pressed in this patriotic exercise), but Eisenstein's masterful management of such a large number of individuals: he displaces divisions like pieces on a chess board and nearly every shot resembles the composition of a painting by Rembrandt or Rubens (Including horses in phantastic outfits). Russia in winter looks intimidating in itself, but Eisenstein's visual imagination is hors concours. Heaps of corpses are plunged in cosmic light under an endless horizon. At nightfall, Olga and other women search with torches for survivors. A devoted falcon sits on his master's dead body while a crow waits for the right moment to pick out the eyes of the deceased. Eisenstein's direction and Prokofiev's score make ALEXANDER NEVSKY the \"Rolls Royce\" among propaganda films. Nevsky is, of course Stalin's alter ego, and the russians are tall, good-looking, heroic, and they have a perfect hairdo. The germans are bearded savages and look like members of the Ku-Klux-Klan. The actor who plays Vasili gives a one-man-four-characters performance: first wavering, then heroic, youthful lover and comic relief. Cherkasov's main duty is to look heroic. At the end, Nevsky-Stalin displays his generosity: He pardons the \"little soldiers\" and barters the knights for soap. Only a bearded killer and a traitorous cleric are turned over to the mob. He does not forget a final warning: Who comes with the sword will die by the sword...He kept his promise. 10/10</td>\n",
              "      <td id=\"T_70c41_row0_col1\" class=\"data row0 col1\" >Positive</td>\n",
              "      <td id=\"T_70c41_row0_col2\" class=\"data row0 col2\" >Positive</td>\n",
              "      <td id=\"T_70c41_row0_col3\" class=\"data row0 col3\" >0.988610</td>\n",
              "    </tr>\n",
              "    <tr>\n",
              "      <th id=\"T_70c41_level0_row1\" class=\"row_heading level0 row1\" >1</th>\n",
              "      <td id=\"T_70c41_row1_col0\" class=\"data row1 col0\" >I was very excited to see a documentary on one of my favorite Italian directors. D'Amato has dabbled in everything from Horror, post-apocalyptic to hardcore Porn. He has touched upon genius a couple of times with films like Buio Omega and Emmanuelle & The Last Cannibals. This documentary is a lenghty and informative guide to the films of D'Amato. He is interviewed throughout with English subtitles rolling across the bottom of the screen. The excerpts from his films are narrated by a narrator (with english subtitles). The documentary proved extra interesting when it analyzed the often censored \"Emmanuelle In America\". Here D'amato explaines the faked \"snuff\" scenes in detail and recalls some funny stories. In fact, good ol' Joe is very warm and funny throughout, always wearing a smile and smoking a cigarette. The one disapointing aspect of this documentary is that it spends little time on D'amato's Horror films like Anthropophagus and the brilliant Buio Omega. It spends too much time on the erotic cinema and hardly touches the post-apocaplyptic films. But, I can't complain. It is wonderful to see D'amato get the respect he deserves. Highly recommended for fans of D'amato. May he rest in peace.</td>\n",
              "      <td id=\"T_70c41_row1_col1\" class=\"data row1 col1\" >Positive</td>\n",
              "      <td id=\"T_70c41_row1_col2\" class=\"data row1 col2\" >Positive</td>\n",
              "      <td id=\"T_70c41_row1_col3\" class=\"data row1 col3\" >0.991093</td>\n",
              "    </tr>\n",
              "    <tr>\n",
              "      <th id=\"T_70c41_level0_row2\" class=\"row_heading level0 row2\" >2</th>\n",
              "      <td id=\"T_70c41_row2_col0\" class=\"data row2 col0\" >When I was a younger(oh about 2)I watched Barney for the first time, and liked it. BUT, back then I didn't exactly have a brain, either. And now I look back and see what a horrible show \"Barney\" really is: First of all, EVERYTHING on that show is creepy. Barney, the main character, is a horrendous 9-foot tall talking, purple dinosaur that teaches 13-year-olds about \"imagination....\"(*shudders*) B.J.(I know what your thinking about his name.)Is a smaller yet creepier yellow dinosaur that is put in to be \"supposudly\" cool. But in fact, he is the exact opposite. After watching a few episodes with B.J. dumbly trudging in with his slightly turned back cap, and making a few no-so-funny jokes, I wanted to scream. Baby Bop-oh-oh-god!(*vomits*)oh-oh-OH-anyway Baby Bop is the worst idea of a character EVER. She is a green triceratops(it's a dinosaur) that carries a yellow blanket. Her remarks of \"hee-hee-hee\" and Barney's praises cries of 'super-deeee-doooper\", make it hard to sit through each episode, as the Seventh graders learn about shapes and manners.<br /><br />And that, my friend, is what makes this show truly horrible.</td>\n",
              "      <td id=\"T_70c41_row2_col1\" class=\"data row2 col1\" >Negative</td>\n",
              "      <td id=\"T_70c41_row2_col2\" class=\"data row2 col2\" >Negative</td>\n",
              "      <td id=\"T_70c41_row2_col3\" class=\"data row2 col3\" >0.030260</td>\n",
              "    </tr>\n",
              "    <tr>\n",
              "      <th id=\"T_70c41_level0_row3\" class=\"row_heading level0 row3\" >3</th>\n",
              "      <td id=\"T_70c41_row3_col0\" class=\"data row3 col0\" >Fuckland is an interesting film. I personally love the Dogma movement. I wish it had lasted longer. It seems to have already died. Many critics tried their damndest to shut it down. I don't know why. It's the most interesting movement to happen in the cinematic world since the French New Wave. Besides Fuckland, I've seen the first three in the series, Festen, Idioterne, and Mifune. They were all great, Festen being a masterpiece, in my opinion. Fuckland isn't up to those others. I was just fascinated with the filmmaking. It's played as if it were a real documentary, with a real person who was so obsessed with his camera that he refused to put it down. At a few points in the film, it becomes clear that it is a work of complete fiction, but that illusion was protracted for an amazing amount of time. I wish that the filmmakers would have come up with something a bit more interesting to put onscreen. It is basically about this guy, Fabian, who is an Argentinian visiting the Faulkland Islands. Argentinians were only in the last couple of months allowed onto the islands, and Fabian plans to impregnate the women with Argentinian children. He sets his eyes on one, and most of the movie is spent on her seduction. The two actors are very natural. Camilla Heany only kind of hints that she is an actress. Fabian Stratas seems completely real. The politics of the film are somewhat confusing to me, since I have only an inkling of the situation surrounding the island and its recent history. I was 3, I think, when the Faulklands were invaded. The final bit of the film doesn't work at all. I don't get what the filmmakers were going for there. Still, Fuckland is an interesting Dogma experiment. It does break some Dogma rules, though, notably the no extra-diagetic music rule. There is a lot of that. 7/10.</td>\n",
              "      <td id=\"T_70c41_row3_col1\" class=\"data row3 col1\" >Positive</td>\n",
              "      <td id=\"T_70c41_row3_col2\" class=\"data row3 col2\" >Positive</td>\n",
              "      <td id=\"T_70c41_row3_col3\" class=\"data row3 col3\" >0.940946</td>\n",
              "    </tr>\n",
              "    <tr>\n",
              "      <th id=\"T_70c41_level0_row4\" class=\"row_heading level0 row4\" >4</th>\n",
              "      <td id=\"T_70c41_row4_col0\" class=\"data row4 col0\" >I think that Gost'ya Iz Buduschego is one of the best Russians minis for teens. I think i were near 6-8 parts of the movie. \"One boy form 6th grade found a time machine in the old house where nobody lived. And he goes to the 21st century, just 100 years in future. In future he meat pirates, they tried to steal a \"milafon\" - machine to read minds and a story started...\" Soundtrack for that movie was very popular in Soviet Union. Everybody loved that movie which was on TV every year.</td>\n",
              "      <td id=\"T_70c41_row4_col1\" class=\"data row4 col1\" >Positive</td>\n",
              "      <td id=\"T_70c41_row4_col2\" class=\"data row4 col2\" >Positive</td>\n",
              "      <td id=\"T_70c41_row4_col3\" class=\"data row4 col3\" >0.986834</td>\n",
              "    </tr>\n",
              "  </tbody>\n",
              "</table>\n"
            ]
          },
          "metadata": {}
        }
      ]
    }
  ],
  "metadata": {
    "accelerator": "GPU",
    "colab": {
      "gpuType": "T4",
      "provenance": []
    },
    "kernelspec": {
      "display_name": "Python 3",
      "name": "python3"
    },
    "language_info": {
      "codemirror_mode": {
        "name": "ipython",
        "version": 3
      },
      "file_extension": ".py",
      "mimetype": "text/x-python",
      "name": "python",
      "nbconvert_exporter": "python",
      "pygments_lexer": "ipython3",
      "version": "3.10.11"
    }
  },
  "nbformat": 4,
  "nbformat_minor": 0
}